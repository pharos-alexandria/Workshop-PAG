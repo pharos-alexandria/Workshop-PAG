{
 "cells": [
  {
   "cell_type": "code",
   "execution_count": 1,
   "metadata": {},
   "outputs": [
    {
     "data": {
      "text/plain": [
       "True"
      ]
     },
     "execution_count": 1,
     "metadata": {},
     "output_type": "execute_result"
    }
   ],
   "source": [
    "import os, re\n",
    "import spacy\n",
    "#spacy.require_cpu()\n",
    "spacy.prefer_gpu() # use if gpu available"
   ]
  },
  {
   "cell_type": "code",
   "execution_count": 2,
   "metadata": {},
   "outputs": [
    {
     "name": "stderr",
     "output_type": "stream",
     "text": [
      "/home/stockhausen/miniconda3/envs/spacy/lib/python3.11/site-packages/tqdm/auto.py:21: TqdmWarning: IProgress not found. Please update jupyter and ipywidgets. See https://ipywidgets.readthedocs.io/en/stable/user_install.html\n",
      "  from .autonotebook import tqdm as notebook_tqdm\n"
     ]
    }
   ],
   "source": [
    "nlp = spacy.load(\"grc_proiel_lg\") #grc_odycy_joint_trf\") # transformer model"
   ]
  },
  {
   "cell_type": "code",
   "execution_count": 3,
   "metadata": {},
   "outputs": [],
   "source": [
    "def spacy_analysis(infile):\n",
    "        with open(infile, \"r\", encoding=\"utf-8\") as source:\n",
    "                contents = source.read()\n",
    "                # clean unwanted interpunction and spaces\n",
    "                contents = re.sub(r'[\\{\\}\\n\\d]+', r'', contents) \n",
    "                contents = re.sub(r'\\s{2,}',r' ', contents)\n",
    "                contents = re.sub(r'^\\s+',r'', contents)\n",
    "        workid = \"\".join(infile.split(\"/\")[-1:]).split(\".txt\")[0]\n",
    "        doc = nlp(contents)\n",
    "        analysis = []\n",
    "        for token in doc:\n",
    "                toks = {}\n",
    "                toks[\"Work\"] = workid\n",
    "                toks[\"Text\"] = token.text\n",
    "                toks[\"Lemma\"] = token.lemma_\n",
    "                toks[\"Stopword\"] = token.is_stop\n",
    "                toks[\"POS\"] = token.pos_\n",
    "                toks[\"Tag\"] = token.tag_\n",
    "                toks[\"Morphology\"] = token.morph\n",
    "                toks[\"Dependency\"] = token.dep_\n",
    "                toks[\"head\"] = token.head\n",
    "                analysis.append(toks)\n",
    "        return analysis"
   ]
  },
  {
   "cell_type": "code",
   "execution_count": null,
   "metadata": {},
   "outputs": [],
   "source": [
    "files = [\"tlg2040-004\",\"tlg2022-001\",\"tlg2017-033\",\"tlg4089-005\",\"tlg4089-006\",\"tlg4089-007\", \"tlg2200-001\", \"tlg2006-001\", \"tlg2003-013\"]\n",
    "\n",
    "for file in files[:1]:\n",
    "    analysis = spacy_analysis(os.path.expanduser(\"~/cltk_data/grc/works-clean/\"+file+\".txt\"))"
   ]
  },
  {
   "cell_type": "code",
   "execution_count": null,
   "metadata": {},
   "outputs": [],
   "source": [
    "print(analysis[:10])"
   ]
  },
  {
   "cell_type": "code",
   "execution_count": null,
   "metadata": {},
   "outputs": [],
   "source": [
    "with open(os.path.expanduser('~/Workshop-PAG/data/letters_analysis.json'), 'w', encoding=\"utf-8\") as fout:\n",
    "# Ergebnisse werden in eine json-Datei geschrieben\n",
    "    json.dump(analysis, fout, indent=2, ensure_ascii=False)"
   ]
  },
  {
   "cell_type": "code",
   "execution_count": null,
   "metadata": {},
   "outputs": [],
   "source": [
    "from spacy import displacy\n",
    "sentence_spans = list(doc.sents)\n",
    "print(sentence_spans[:3])\n",
    "displacy.render(sentence_spans[:3], style=\"dep\")"
   ]
  }
 ],
 "metadata": {
  "kernelspec": {
   "display_name": "workshop-pag",
   "language": "python",
   "name": "python3"
  },
  "language_info": {
   "codemirror_mode": {
    "name": "ipython",
    "version": 3
   },
   "file_extension": ".py",
   "mimetype": "text/x-python",
   "name": "python",
   "nbconvert_exporter": "python",
   "pygments_lexer": "ipython3",
   "version": "3.11.7"
  }
 },
 "nbformat": 4,
 "nbformat_minor": 2
}
